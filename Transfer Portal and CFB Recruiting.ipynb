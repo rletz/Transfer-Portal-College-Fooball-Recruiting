{
 "cells": [
  {
   "cell_type": "markdown",
   "metadata": {},
   "source": [
    "# The NCAA Transfer Portal and College Football Recruiting"
   ]
  },
  {
   "cell_type": "markdown",
   "metadata": {},
   "source": [
    "October 15th, 2018. The NCAA announces a massive new change, creating the NCAA Transfer Portal to be made available to college athletes. In the midst of numerous debates about the lack of freedoms that college athletes had with current NCAA rules at the time, this was a monumental milestone in providing more of that \"freedom\" to these athletes.\n",
    "\n",
    "However, after having a few years to run its course, what kind of impact might the transfer portal have had on recruiting football prospects coming into NCAA programs?\n",
    "\n",
    "Does the transfer portal provide an effect of \"spreading the wealth\" of talent across more college football programs? Does it motivate these prospects to commit to the \"elite\" level programs, knowing that if things don't work out for them the way they envisioned, that a transfer somewhere else is always an option now?\n",
    "\n",
    "Let's analyze the data and see what we can find!\n",
    "\n",
    "We'll start by reading in our recruiting database file, and cleaning it up, as shown below.\n",
    "\n",
    "***NOTE***: The source of the individual recruit data being used is from the site CollegeFootballData.com."
   ]
  },
  {
   "cell_type": "code",
   "execution_count": 1,
   "metadata": {
    "scrolled": true
   },
   "outputs": [
    {
     "data": {
      "text/html": [
       "<div>\n",
       "<style scoped>\n",
       "    .dataframe tbody tr th:only-of-type {\n",
       "        vertical-align: middle;\n",
       "    }\n",
       "\n",
       "    .dataframe tbody tr th {\n",
       "        vertical-align: top;\n",
       "    }\n",
       "\n",
       "    .dataframe thead th {\n",
       "        text-align: right;\n",
       "    }\n",
       "</style>\n",
       "<table border=\"1\" class=\"dataframe\">\n",
       "  <thead>\n",
       "    <tr style=\"text-align: right;\">\n",
       "      <th></th>\n",
       "      <th>id</th>\n",
       "      <th>athleteId</th>\n",
       "      <th>recruitType</th>\n",
       "      <th>year</th>\n",
       "      <th>ranking</th>\n",
       "      <th>name</th>\n",
       "      <th>school</th>\n",
       "      <th>committedTo</th>\n",
       "      <th>position</th>\n",
       "      <th>height</th>\n",
       "      <th>weight</th>\n",
       "      <th>stars</th>\n",
       "      <th>rating</th>\n",
       "      <th>city</th>\n",
       "      <th>stateProvince</th>\n",
       "      <th>country</th>\n",
       "      <th>hometownInfo.latitude</th>\n",
       "      <th>hometownInfo.longitude</th>\n",
       "      <th>hometownInfo.fipsCode</th>\n",
       "    </tr>\n",
       "  </thead>\n",
       "  <tbody>\n",
       "    <tr>\n",
       "      <th>0</th>\n",
       "      <td>61569</td>\n",
       "      <td>4428988.0</td>\n",
       "      <td>HighSchool</td>\n",
       "      <td>2020</td>\n",
       "      <td>1</td>\n",
       "      <td>Bryan Bresee</td>\n",
       "      <td>Damascus</td>\n",
       "      <td>Clemson</td>\n",
       "      <td>DT</td>\n",
       "      <td>77.0</td>\n",
       "      <td>290.0</td>\n",
       "      <td>5</td>\n",
       "      <td>0.9995</td>\n",
       "      <td>Damascus</td>\n",
       "      <td>MD</td>\n",
       "      <td>USA</td>\n",
       "      <td>39.288438</td>\n",
       "      <td>-77.203872</td>\n",
       "      <td>24031.0</td>\n",
       "    </tr>\n",
       "    <tr>\n",
       "      <th>1</th>\n",
       "      <td>61570</td>\n",
       "      <td>4685720.0</td>\n",
       "      <td>HighSchool</td>\n",
       "      <td>2020</td>\n",
       "      <td>2</td>\n",
       "      <td>Bryce Young</td>\n",
       "      <td>Mater Dei</td>\n",
       "      <td>Alabama</td>\n",
       "      <td>DUAL</td>\n",
       "      <td>71.0</td>\n",
       "      <td>183.0</td>\n",
       "      <td>5</td>\n",
       "      <td>0.9994</td>\n",
       "      <td>Santa Ana</td>\n",
       "      <td>CA</td>\n",
       "      <td>USA</td>\n",
       "      <td>33.749495</td>\n",
       "      <td>-117.873221</td>\n",
       "      <td>6059.0</td>\n",
       "    </tr>\n",
       "    <tr>\n",
       "      <th>2</th>\n",
       "      <td>61571</td>\n",
       "      <td>4430800.0</td>\n",
       "      <td>HighSchool</td>\n",
       "      <td>2020</td>\n",
       "      <td>3</td>\n",
       "      <td>Julian Fleming</td>\n",
       "      <td>Southern Columbia</td>\n",
       "      <td>Ohio State</td>\n",
       "      <td>WR</td>\n",
       "      <td>74.0</td>\n",
       "      <td>199.0</td>\n",
       "      <td>5</td>\n",
       "      <td>0.9979</td>\n",
       "      <td>Catawissa</td>\n",
       "      <td>PA</td>\n",
       "      <td>USA</td>\n",
       "      <td>40.954827</td>\n",
       "      <td>-76.460987</td>\n",
       "      <td>42037.0</td>\n",
       "    </tr>\n",
       "    <tr>\n",
       "      <th>3</th>\n",
       "      <td>61572</td>\n",
       "      <td>4428992.0</td>\n",
       "      <td>HighSchool</td>\n",
       "      <td>2020</td>\n",
       "      <td>4</td>\n",
       "      <td>Kelee Ringo</td>\n",
       "      <td>Saguaro</td>\n",
       "      <td>Georgia</td>\n",
       "      <td>CB</td>\n",
       "      <td>74.0</td>\n",
       "      <td>205.0</td>\n",
       "      <td>5</td>\n",
       "      <td>0.9976</td>\n",
       "      <td>Scottsdale</td>\n",
       "      <td>AZ</td>\n",
       "      <td>USA</td>\n",
       "      <td>33.494219</td>\n",
       "      <td>-111.926018</td>\n",
       "      <td>4013.0</td>\n",
       "    </tr>\n",
       "    <tr>\n",
       "      <th>4</th>\n",
       "      <td>61573</td>\n",
       "      <td>4428994.0</td>\n",
       "      <td>HighSchool</td>\n",
       "      <td>2020</td>\n",
       "      <td>5</td>\n",
       "      <td>Arik Gilbert</td>\n",
       "      <td>Marietta</td>\n",
       "      <td>LSU</td>\n",
       "      <td>TE</td>\n",
       "      <td>77.0</td>\n",
       "      <td>253.0</td>\n",
       "      <td>5</td>\n",
       "      <td>0.9972</td>\n",
       "      <td>Marietta</td>\n",
       "      <td>GA</td>\n",
       "      <td>USA</td>\n",
       "      <td>33.952847</td>\n",
       "      <td>-84.549615</td>\n",
       "      <td>13067.0</td>\n",
       "    </tr>\n",
       "  </tbody>\n",
       "</table>\n",
       "</div>"
      ],
      "text/plain": [
       "      id  athleteId recruitType  year  ranking            name  \\\n",
       "0  61569  4428988.0  HighSchool  2020        1    Bryan Bresee   \n",
       "1  61570  4685720.0  HighSchool  2020        2     Bryce Young   \n",
       "2  61571  4430800.0  HighSchool  2020        3  Julian Fleming   \n",
       "3  61572  4428992.0  HighSchool  2020        4     Kelee Ringo   \n",
       "4  61573  4428994.0  HighSchool  2020        5    Arik Gilbert   \n",
       "\n",
       "              school committedTo position  height  weight  stars  rating  \\\n",
       "0           Damascus     Clemson       DT    77.0   290.0      5  0.9995   \n",
       "1          Mater Dei     Alabama     DUAL    71.0   183.0      5  0.9994   \n",
       "2  Southern Columbia  Ohio State       WR    74.0   199.0      5  0.9979   \n",
       "3            Saguaro     Georgia       CB    74.0   205.0      5  0.9976   \n",
       "4           Marietta         LSU       TE    77.0   253.0      5  0.9972   \n",
       "\n",
       "         city stateProvince country  hometownInfo.latitude  \\\n",
       "0    Damascus            MD     USA              39.288438   \n",
       "1   Santa Ana            CA     USA              33.749495   \n",
       "2   Catawissa            PA     USA              40.954827   \n",
       "3  Scottsdale            AZ     USA              33.494219   \n",
       "4    Marietta            GA     USA              33.952847   \n",
       "\n",
       "   hometownInfo.longitude  hometownInfo.fipsCode  \n",
       "0              -77.203872                24031.0  \n",
       "1             -117.873221                 6059.0  \n",
       "2              -76.460987                42037.0  \n",
       "3             -111.926018                 4013.0  \n",
       "4              -84.549615                13067.0  "
      ]
     },
     "execution_count": 1,
     "metadata": {},
     "output_type": "execute_result"
    }
   ],
   "source": [
    "#importing\n",
    "\n",
    "import pandas as pd\n",
    "import numpy as np\n",
    "import seaborn as sns\n",
    "import matplotlib.pyplot as plt\n",
    "\n",
    "#read file\n",
    "\n",
    "data = pd.read_csv('C:/Users/Ryan/Desktop/Python/CFB Analysis/Recruiting Database.csv',\n",
    "                  encoding = 'Latin1')\n",
    "\n",
    "#preview file\n",
    "\n",
    "data.head()"
   ]
  },
  {
   "cell_type": "markdown",
   "metadata": {},
   "source": [
    "Although I collected the data above from the site CollegeFootballData.com, the recruit information displayed above is from the site 247Sports.com.\n",
    "\n",
    "The nice thing about having the data from 247Sports is that their recruit ratings are based on a composite score from 3 different recruiting evaluation sites. They use recruit ratings from ESPN.com, Rivals.com, and 247Sports' own individual opinions on recruit performance. The composite score takes all three scores into account and provides the rating attribute you see above."
   ]
  },
  {
   "cell_type": "code",
   "execution_count": 2,
   "metadata": {},
   "outputs": [
    {
     "data": {
      "text/html": [
       "<div>\n",
       "<style scoped>\n",
       "    .dataframe tbody tr th:only-of-type {\n",
       "        vertical-align: middle;\n",
       "    }\n",
       "\n",
       "    .dataframe tbody tr th {\n",
       "        vertical-align: top;\n",
       "    }\n",
       "\n",
       "    .dataframe thead th {\n",
       "        text-align: right;\n",
       "    }\n",
       "</style>\n",
       "<table border=\"1\" class=\"dataframe\">\n",
       "  <thead>\n",
       "    <tr style=\"text-align: right;\">\n",
       "      <th></th>\n",
       "      <th>recruitType</th>\n",
       "      <th>year</th>\n",
       "      <th>classRank</th>\n",
       "      <th>name</th>\n",
       "      <th>college</th>\n",
       "      <th>position</th>\n",
       "      <th>stars</th>\n",
       "      <th>rating</th>\n",
       "    </tr>\n",
       "  </thead>\n",
       "  <tbody>\n",
       "    <tr>\n",
       "      <th>0</th>\n",
       "      <td>HighSchool</td>\n",
       "      <td>2020</td>\n",
       "      <td>1</td>\n",
       "      <td>Bryan Bresee</td>\n",
       "      <td>Clemson</td>\n",
       "      <td>DT</td>\n",
       "      <td>5</td>\n",
       "      <td>0.9995</td>\n",
       "    </tr>\n",
       "    <tr>\n",
       "      <th>1</th>\n",
       "      <td>HighSchool</td>\n",
       "      <td>2020</td>\n",
       "      <td>2</td>\n",
       "      <td>Bryce Young</td>\n",
       "      <td>Alabama</td>\n",
       "      <td>DUAL</td>\n",
       "      <td>5</td>\n",
       "      <td>0.9994</td>\n",
       "    </tr>\n",
       "    <tr>\n",
       "      <th>2</th>\n",
       "      <td>HighSchool</td>\n",
       "      <td>2020</td>\n",
       "      <td>3</td>\n",
       "      <td>Julian Fleming</td>\n",
       "      <td>Ohio State</td>\n",
       "      <td>WR</td>\n",
       "      <td>5</td>\n",
       "      <td>0.9979</td>\n",
       "    </tr>\n",
       "    <tr>\n",
       "      <th>3</th>\n",
       "      <td>HighSchool</td>\n",
       "      <td>2020</td>\n",
       "      <td>4</td>\n",
       "      <td>Kelee Ringo</td>\n",
       "      <td>Georgia</td>\n",
       "      <td>CB</td>\n",
       "      <td>5</td>\n",
       "      <td>0.9976</td>\n",
       "    </tr>\n",
       "    <tr>\n",
       "      <th>4</th>\n",
       "      <td>HighSchool</td>\n",
       "      <td>2020</td>\n",
       "      <td>5</td>\n",
       "      <td>Arik Gilbert</td>\n",
       "      <td>LSU</td>\n",
       "      <td>TE</td>\n",
       "      <td>5</td>\n",
       "      <td>0.9972</td>\n",
       "    </tr>\n",
       "  </tbody>\n",
       "</table>\n",
       "</div>"
      ],
      "text/plain": [
       "  recruitType  year  classRank            name     college position  stars  \\\n",
       "0  HighSchool  2020          1    Bryan Bresee     Clemson       DT      5   \n",
       "1  HighSchool  2020          2     Bryce Young     Alabama     DUAL      5   \n",
       "2  HighSchool  2020          3  Julian Fleming  Ohio State       WR      5   \n",
       "3  HighSchool  2020          4     Kelee Ringo     Georgia       CB      5   \n",
       "4  HighSchool  2020          5    Arik Gilbert         LSU       TE      5   \n",
       "\n",
       "   rating  \n",
       "0  0.9995  \n",
       "1  0.9994  \n",
       "2  0.9979  \n",
       "3  0.9976  \n",
       "4  0.9972  "
      ]
     },
     "execution_count": 2,
     "metadata": {},
     "output_type": "execute_result"
    }
   ],
   "source": [
    "#removing unneeded columns\n",
    "\n",
    "data = data.drop(['id', 'athleteId', 'school', 'height', 'weight', 'city', 'stateProvince', 'country',\n",
    "                  'hometownInfo.latitude', 'hometownInfo.longitude', 'hometownInfo.fipsCode'], axis=1)\n",
    "\n",
    "#renaming some columns\n",
    "\n",
    "data = data.rename(columns={'ranking':'classRank', 'committedTo':'college'})\n",
    "\n",
    "#showing updated dataframe\n",
    "\n",
    "data.head()"
   ]
  },
  {
   "cell_type": "markdown",
   "metadata": {},
   "source": [
    "While the transfer portal was introduced in 2018, I wanted to include recruiting data from both before and after the portal. I am going to filter the information from 2016 to 2021, providing three years of data both before and after portal implementation.\n",
    "\n",
    "For more accurate data, even though it shouldn't impact our analysis here, I am also going to remove any players who were uncommitted on National Signing Day for their class year."
   ]
  },
  {
   "cell_type": "code",
   "execution_count": 3,
   "metadata": {},
   "outputs": [],
   "source": [
    "#filtering recruits from 2016 to 2021\n",
    "\n",
    "data = data[data['year'] >= 2016]\n",
    "\n",
    "#removing uncommitted recruits\n",
    "\n",
    "data = data[data['college'].notnull()]"
   ]
  },
  {
   "cell_type": "markdown",
   "metadata": {},
   "source": [
    "## Selecting Elite Teams\n",
    "\n",
    "I had some fun with this part.\n",
    "\n",
    "One of the many things that makes college football so great is the constant posturing and arguing from fanbases and their teams. So, for an interesting \"side experiment,\" I messaged some of my friends who are big college football fans to ask them who would be in their current elite group. None of the answers I received back, outside of three programs, were the same from any of them.\n",
    "\n",
    "From the start, I had three programs in mind who I already decided would be in the elite group: Alabama, Clemson, and Ohio State. These were the three programs my friends also all consistently mentioned. However, there were three other programs that came up in some responses, but not in all, which I will refer to as \"maybes\": Oklahoma, LSU and Georgia.\n",
    "\n",
    "Coming up with reasoning to add these teams to the elite group was difficult, so I consulted some data to help decide, which you can see below.\n",
    "\n",
    "As a side note, the criteria to qualify for the elite group in this analysis consists of programs who are considered to be elite recently, as of the 2016 season.\n",
    "\n",
    "***NOTE***: The college football postseason data I put together myself in an Excel CSV file, while the season records data is collected from, again, CollegeFootballData.com."
   ]
  },
  {
   "cell_type": "code",
   "execution_count": 4,
   "metadata": {},
   "outputs": [
    {
     "data": {
      "text/html": [
       "<div>\n",
       "<style scoped>\n",
       "    .dataframe tbody tr th:only-of-type {\n",
       "        vertical-align: middle;\n",
       "    }\n",
       "\n",
       "    .dataframe tbody tr th {\n",
       "        vertical-align: top;\n",
       "    }\n",
       "\n",
       "    .dataframe thead th {\n",
       "        text-align: right;\n",
       "    }\n",
       "</style>\n",
       "<table border=\"1\" class=\"dataframe\">\n",
       "  <thead>\n",
       "    <tr style=\"text-align: right;\">\n",
       "      <th></th>\n",
       "      <th>Team</th>\n",
       "      <th>Game Reached</th>\n",
       "      <th>Champion?</th>\n",
       "      <th>Year</th>\n",
       "      <th>Era</th>\n",
       "    </tr>\n",
       "  </thead>\n",
       "  <tbody>\n",
       "    <tr>\n",
       "      <th>0</th>\n",
       "      <td>Miami</td>\n",
       "      <td>Final</td>\n",
       "      <td>Yes</td>\n",
       "      <td>2001</td>\n",
       "      <td>BCS</td>\n",
       "    </tr>\n",
       "    <tr>\n",
       "      <th>1</th>\n",
       "      <td>Nebraska</td>\n",
       "      <td>Final</td>\n",
       "      <td>No</td>\n",
       "      <td>2001</td>\n",
       "      <td>BCS</td>\n",
       "    </tr>\n",
       "    <tr>\n",
       "      <th>2</th>\n",
       "      <td>Ohio State</td>\n",
       "      <td>Final</td>\n",
       "      <td>Yes</td>\n",
       "      <td>2002</td>\n",
       "      <td>BCS</td>\n",
       "    </tr>\n",
       "    <tr>\n",
       "      <th>3</th>\n",
       "      <td>Miami</td>\n",
       "      <td>Final</td>\n",
       "      <td>No</td>\n",
       "      <td>2002</td>\n",
       "      <td>BCS</td>\n",
       "    </tr>\n",
       "    <tr>\n",
       "      <th>4</th>\n",
       "      <td>LSU</td>\n",
       "      <td>Final</td>\n",
       "      <td>Yes</td>\n",
       "      <td>2003</td>\n",
       "      <td>BCS</td>\n",
       "    </tr>\n",
       "  </tbody>\n",
       "</table>\n",
       "</div>"
      ],
      "text/plain": [
       "         Team Game Reached Champion?  Year  Era\n",
       "0       Miami        Final       Yes  2001  BCS\n",
       "1    Nebraska        Final        No  2001  BCS\n",
       "2  Ohio State        Final       Yes  2002  BCS\n",
       "3       Miami        Final        No  2002  BCS\n",
       "4         LSU        Final       Yes  2003  BCS"
      ]
     },
     "execution_count": 4,
     "metadata": {},
     "output_type": "execute_result"
    }
   ],
   "source": [
    "#importing college football playoff data\n",
    "\n",
    "playoff = pd.read_csv('C:/Users/Ryan/Desktop/Python/CFB Analysis/CFB Championship Database.csv')\n",
    "\n",
    "playoff.head()"
   ]
  },
  {
   "cell_type": "code",
   "execution_count": 5,
   "metadata": {},
   "outputs": [
    {
     "name": "stdout",
     "output_type": "stream",
     "text": [
      "Schools with Championship Game Appearance Since 2016:\n",
      "Alabama       4\n",
      "Clemson       3\n",
      "Ohio State    1\n",
      "LSU           1\n",
      "Georgia       1\n",
      "Name: Team, dtype: int64\n"
     ]
    }
   ],
   "source": [
    "#filtering years from 2016 to 2021\n",
    "\n",
    "finalists = playoff[playoff['Year'] >= 2016]\n",
    "\n",
    "#filtering for reaching championship game\n",
    "\n",
    "finalists = finalists[finalists['Game Reached'] == 'Final']\n",
    "\n",
    "#showing teams who have championship game appearance\n",
    "\n",
    "print('Schools with Championship Game Appearance Since 2016:')\n",
    "\n",
    "print(finalists['Team'].value_counts())"
   ]
  },
  {
   "cell_type": "code",
   "execution_count": 6,
   "metadata": {
    "scrolled": false
   },
   "outputs": [
    {
     "name": "stdout",
     "output_type": "stream",
     "text": [
      "Schools with Playoff Appearance Since 2016:\n",
      "Clemson       5\n",
      "Alabama       4\n",
      "Ohio State    3\n",
      "Oklahoma      3\n",
      "Notre Dame    2\n",
      "Washington    1\n",
      "Georgia       1\n",
      "LSU           1\n",
      "Name: Team, dtype: int64\n"
     ]
    }
   ],
   "source": [
    "#showing teams who have playoff appearance\n",
    "\n",
    "sfinals = playoff[playoff['Year'] >= 2016]\n",
    "\n",
    "print('Schools with Playoff Appearance Since 2016:')\n",
    "\n",
    "print(sfinals['Team'].value_counts())"
   ]
  },
  {
   "cell_type": "markdown",
   "metadata": {},
   "source": [
    "The no doubt elite schools for the group, Alabama, Clemson and Ohio State, showcase their strong resumes here. Each program has at least 3 playoff appearances since 2016, and, in the case of Alabama and Clemson, the only programs with multiple championship game appearances.\n",
    "\n",
    "However, each of our bubble teams (Oklahoma, LSU and Georgia) have their own cases to be made here. Both LSU and Georgia have something Oklahoma doesn't, which is a national title game appearance. It is also worth noting that LSU did win a national title in 2019. Georgia appeared in the national title game during its only playoff qualification in 2017.\n",
    "\n",
    "On the other hand, in the case of Oklahoma, they have something the other two programs don't: multiple playoff appearances since 2016. In fact, they are right there with the three other elite programs in terms of appearances.\n",
    "\n",
    "Maybe we can further decide on who to add to the elite group by looking at winning percentages of programs since 2016."
   ]
  },
  {
   "cell_type": "code",
   "execution_count": 7,
   "metadata": {},
   "outputs": [
    {
     "data": {
      "text/html": [
       "<div>\n",
       "<style scoped>\n",
       "    .dataframe tbody tr th:only-of-type {\n",
       "        vertical-align: middle;\n",
       "    }\n",
       "\n",
       "    .dataframe tbody tr th {\n",
       "        vertical-align: top;\n",
       "    }\n",
       "\n",
       "    .dataframe thead th {\n",
       "        text-align: right;\n",
       "    }\n",
       "</style>\n",
       "<table border=\"1\" class=\"dataframe\">\n",
       "  <thead>\n",
       "    <tr style=\"text-align: right;\">\n",
       "      <th></th>\n",
       "      <th>year</th>\n",
       "      <th>team</th>\n",
       "      <th>conference</th>\n",
       "      <th>division</th>\n",
       "      <th>total.games</th>\n",
       "      <th>total.wins</th>\n",
       "      <th>total.losses</th>\n",
       "      <th>total.ties</th>\n",
       "      <th>conferenceGames.games</th>\n",
       "      <th>conferenceGames.wins</th>\n",
       "      <th>conferenceGames.losses</th>\n",
       "      <th>conferenceGames.ties</th>\n",
       "      <th>homeGames.games</th>\n",
       "      <th>homeGames.wins</th>\n",
       "      <th>homeGames.losses</th>\n",
       "      <th>homeGames.ties</th>\n",
       "      <th>awayGames.games</th>\n",
       "      <th>awayGames.wins</th>\n",
       "      <th>awayGames.losses</th>\n",
       "      <th>awayGames.ties</th>\n",
       "    </tr>\n",
       "  </thead>\n",
       "  <tbody>\n",
       "    <tr>\n",
       "      <th>0</th>\n",
       "      <td>2020</td>\n",
       "      <td>Air Force</td>\n",
       "      <td>Mountain West</td>\n",
       "      <td>Mountain</td>\n",
       "      <td>6</td>\n",
       "      <td>3</td>\n",
       "      <td>3</td>\n",
       "      <td>0</td>\n",
       "      <td>4</td>\n",
       "      <td>2</td>\n",
       "      <td>2</td>\n",
       "      <td>0</td>\n",
       "      <td>3</td>\n",
       "      <td>2</td>\n",
       "      <td>1</td>\n",
       "      <td>0</td>\n",
       "      <td>3</td>\n",
       "      <td>1</td>\n",
       "      <td>2</td>\n",
       "      <td>0</td>\n",
       "    </tr>\n",
       "    <tr>\n",
       "      <th>1</th>\n",
       "      <td>2020</td>\n",
       "      <td>Akron</td>\n",
       "      <td>Mid-American</td>\n",
       "      <td>East</td>\n",
       "      <td>6</td>\n",
       "      <td>1</td>\n",
       "      <td>5</td>\n",
       "      <td>0</td>\n",
       "      <td>6</td>\n",
       "      <td>1</td>\n",
       "      <td>5</td>\n",
       "      <td>0</td>\n",
       "      <td>3</td>\n",
       "      <td>1</td>\n",
       "      <td>2</td>\n",
       "      <td>0</td>\n",
       "      <td>3</td>\n",
       "      <td>0</td>\n",
       "      <td>3</td>\n",
       "      <td>0</td>\n",
       "    </tr>\n",
       "    <tr>\n",
       "      <th>2</th>\n",
       "      <td>2020</td>\n",
       "      <td>Alabama</td>\n",
       "      <td>SEC</td>\n",
       "      <td>West</td>\n",
       "      <td>13</td>\n",
       "      <td>13</td>\n",
       "      <td>0</td>\n",
       "      <td>0</td>\n",
       "      <td>11</td>\n",
       "      <td>11</td>\n",
       "      <td>0</td>\n",
       "      <td>0</td>\n",
       "      <td>5</td>\n",
       "      <td>5</td>\n",
       "      <td>0</td>\n",
       "      <td>0</td>\n",
       "      <td>5</td>\n",
       "      <td>5</td>\n",
       "      <td>0</td>\n",
       "      <td>0</td>\n",
       "    </tr>\n",
       "    <tr>\n",
       "      <th>3</th>\n",
       "      <td>2020</td>\n",
       "      <td>Appalachian State</td>\n",
       "      <td>Sun Belt</td>\n",
       "      <td>NaN</td>\n",
       "      <td>12</td>\n",
       "      <td>9</td>\n",
       "      <td>3</td>\n",
       "      <td>0</td>\n",
       "      <td>8</td>\n",
       "      <td>6</td>\n",
       "      <td>2</td>\n",
       "      <td>0</td>\n",
       "      <td>6</td>\n",
       "      <td>5</td>\n",
       "      <td>1</td>\n",
       "      <td>0</td>\n",
       "      <td>5</td>\n",
       "      <td>3</td>\n",
       "      <td>2</td>\n",
       "      <td>0</td>\n",
       "    </tr>\n",
       "    <tr>\n",
       "      <th>4</th>\n",
       "      <td>2020</td>\n",
       "      <td>Arizona</td>\n",
       "      <td>Pac-12</td>\n",
       "      <td>South</td>\n",
       "      <td>5</td>\n",
       "      <td>0</td>\n",
       "      <td>5</td>\n",
       "      <td>0</td>\n",
       "      <td>5</td>\n",
       "      <td>0</td>\n",
       "      <td>5</td>\n",
       "      <td>0</td>\n",
       "      <td>3</td>\n",
       "      <td>0</td>\n",
       "      <td>3</td>\n",
       "      <td>0</td>\n",
       "      <td>2</td>\n",
       "      <td>0</td>\n",
       "      <td>2</td>\n",
       "      <td>0</td>\n",
       "    </tr>\n",
       "  </tbody>\n",
       "</table>\n",
       "</div>"
      ],
      "text/plain": [
       "   year               team     conference  division  total.games  total.wins  \\\n",
       "0  2020          Air Force  Mountain West  Mountain            6           3   \n",
       "1  2020              Akron   Mid-American      East            6           1   \n",
       "2  2020            Alabama            SEC      West           13          13   \n",
       "3  2020  Appalachian State       Sun Belt       NaN           12           9   \n",
       "4  2020            Arizona         Pac-12     South            5           0   \n",
       "\n",
       "   total.losses  total.ties  conferenceGames.games  conferenceGames.wins  \\\n",
       "0             3           0                      4                     2   \n",
       "1             5           0                      6                     1   \n",
       "2             0           0                     11                    11   \n",
       "3             3           0                      8                     6   \n",
       "4             5           0                      5                     0   \n",
       "\n",
       "   conferenceGames.losses  conferenceGames.ties  homeGames.games  \\\n",
       "0                       2                     0                3   \n",
       "1                       5                     0                3   \n",
       "2                       0                     0                5   \n",
       "3                       2                     0                6   \n",
       "4                       5                     0                3   \n",
       "\n",
       "   homeGames.wins  homeGames.losses  homeGames.ties  awayGames.games  \\\n",
       "0               2                 1               0                3   \n",
       "1               1                 2               0                3   \n",
       "2               5                 0               0                5   \n",
       "3               5                 1               0                5   \n",
       "4               0                 3               0                2   \n",
       "\n",
       "   awayGames.wins  awayGames.losses  awayGames.ties  \n",
       "0               1                 2               0  \n",
       "1               0                 3               0  \n",
       "2               5                 0               0  \n",
       "3               3                 2               0  \n",
       "4               0                 2               0  "
      ]
     },
     "execution_count": 7,
     "metadata": {},
     "output_type": "execute_result"
    }
   ],
   "source": [
    "#importing school season records data\n",
    "\n",
    "records = pd.read_csv('C:/Users/Ryan/Desktop/Python/CFB Analysis/CFB Season Records.csv', encoding = 'Latin1')\n",
    "\n",
    "records.head()"
   ]
  },
  {
   "cell_type": "code",
   "execution_count": 8,
   "metadata": {},
   "outputs": [],
   "source": [
    "#cleaning info\n",
    "\n",
    "records = records.drop(['division', 'total.ties', 'conferenceGames.games', 'conferenceGames.wins',\n",
    "                       'conferenceGames.losses', 'homeGames.games', 'homeGames.wins', 'homeGames.losses',\n",
    "                       'homeGames.ties', 'awayGames.games', 'awayGames.wins', 'awayGames.losses', 'awayGames.ties',\n",
    "                       'conferenceGames.ties'], axis=1)\n",
    "\n",
    "records = records.rename(columns={'total.games':'games', 'total.wins':'wins', 'total.losses':'losses'})"
   ]
  },
  {
   "cell_type": "code",
   "execution_count": 9,
   "metadata": {},
   "outputs": [
    {
     "name": "stdout",
     "output_type": "stream",
     "text": [
      "Program winning percentages since 2016:\n",
      "team\n",
      "Alabama              0.928\n",
      "Clemson              0.910\n",
      "Ohio State           0.890\n",
      "Oklahoma             0.850\n",
      "Appalachian State    0.798\n",
      "Georgia              0.788\n",
      "Boise State          0.780\n",
      "UCF                  0.750\n",
      "Washington           0.742\n",
      "Notre Dame           0.740\n",
      "LSU                  0.726\n",
      "Penn State           0.724\n",
      "Wisconsin            0.724\n",
      "Memphis              0.710\n",
      "Iowa                 0.690\n",
      "Name: win_pct, dtype: float64\n"
     ]
    }
   ],
   "source": [
    "#filtering for 2016 to 2021\n",
    "\n",
    "records = records[records['year'] >= 2016]\n",
    "\n",
    "#creating win percentage column\n",
    "\n",
    "records['win_pct'] = round(((records.wins)/(records.games)),2)\n",
    "\n",
    "#retrieving total win percentage by team since 2016\n",
    "\n",
    "team_group = records.groupby('team').agg(np.mean)['win_pct']\n",
    "\n",
    "print('Program winning percentages since 2016:')\n",
    "\n",
    "print(team_group.sort_values(ascending=False).head(15))"
   ]
  },
  {
   "cell_type": "markdown",
   "metadata": {},
   "source": [
    "Interesting. Again, our three no doubt elite programs further showcase their strong resumes here. What's interesting, though, is the winning percentages of our bubble teams.\n",
    "\n",
    "Oklahoma's winning percentage is very impressive (85%). They are actually the only other team, outside of the three elites, to have a winning percentage above 80%, and even 85%. This, again, gives them something in common with the three elites that Georgia (79%) and LSU (73%) don't have.\n",
    "\n",
    "After reviewing all of this data, I have decided to add only Oklahoma to the elite group with Alabama, Clemson, and Ohio State. Although all three have very solid arguments, I believe having a winning percentage at 85%, along with multiple playoff appearances, for Oklahoma shows ***sustained*** success over the time period we are analyzing."
   ]
  },
  {
   "cell_type": "code",
   "execution_count": 10,
   "metadata": {},
   "outputs": [],
   "source": [
    "#grouping colleges by elite level\n",
    "\n",
    "elites = ['Alabama', 'Ohio State', 'Clemson', 'Oklahoma']\n",
    "\n",
    "data['eliteLevel'] = ''\n",
    "\n",
    "data['eliteLevel'] = np.where(data.college.isin(elites), 'Elite', 'Non-Elite')"
   ]
  },
  {
   "cell_type": "markdown",
   "metadata": {},
   "source": [
    "## Transfer Portal and Blue Chip Prospect Recruiting\n",
    "\n",
    "Now that we have our elite programs group, we can analyze how their recruiting efforts have fared against the rest of college football. Please keep in mind, the results of the elite group are going up against some teams in the non-elite group who are also very good programs that recruit well (LSU, Georgia, Notre Dame, and Penn State, to name a few).\n",
    "\n",
    "We will start by anazlying the portal's potential effect on recruiting blue chip prospects. A **blue chip recruit** is considered to be either a 4 or 5 star player, and are highly sought after by every program in the country. While the number of stars a prospect has does not always reflect performance on the field in college, getting blue chip prospects into a program certainly helps to contribute to program success.\n",
    "\n",
    "To conduct this analysis, I am first going to append the original database by adding a column (eliteLevel) to categorize each recruit based on if they are attending a program in the \"elite\" list. Then, I will create a new dataset from our original to include only players with a 4 or 5 star rating, and create the elite and non-elite groups based on the filtered data. To finish this section, I will calculate the percentage of blue chip recruits each group gained a commitment from in each recruiting year."
   ]
  },
  {
   "cell_type": "code",
   "execution_count": 11,
   "metadata": {},
   "outputs": [],
   "source": [
    "#keeping 4 and 5 stars as blue chip recruits\n",
    "\n",
    "chips = data.copy()\n",
    "\n",
    "chips = chips[chips['stars'] >= 4]\n",
    "\n",
    "grouped = chips.groupby(['year', 'eliteLevel'])['eliteLevel'].count().rename(\"count\")\n",
    "\n",
    "percentage = grouped / grouped.groupby('year').sum() * 100\n",
    "percentage = round(percentage,2)\n",
    "percentage = percentage.reset_index()"
   ]
  },
  {
   "cell_type": "code",
   "execution_count": 12,
   "metadata": {
    "scrolled": false
   },
   "outputs": [
    {
     "data": {
      "image/png": "[encoded data removed]",
      "text/plain": [
       "<Figure size 864x576 with 1 Axes>"
      ]
     },
     "metadata": {},
     "output_type": "display_data"
    }
   ],
   "source": [
    "sns.set_theme() #setting seaborn theme\n",
    "\n",
    "#plotting \n",
    "\n",
    "fig, ax = plt.subplots(figsize=(12,8))\n",
    "sns.lineplot(x='year', y='count', data=percentage, hue='eliteLevel', palette='rocket_r')\n",
    "#set vertical line to 2018.8 to roughly reflect portal open in October 2018\n",
    "plt.axvline(2018.8, color='green', label='Start of Transfer Portal', alpha=0.5)\n",
    "plt.title('Transfer Portal and Blue Chip Recruiting - Elite vs. Non-Elite', fontsize=18)\n",
    "plt.xlabel('Year')\n",
    "plt.ylabel('Percent of Blue Chip Recruits', fontsize=14)\n",
    "plt.legend()\n",
    "plt.show()"
   ]
  },
  {
   "cell_type": "markdown",
   "metadata": {},
   "source": [
    "Looking at the graph above, we can see that despite a blip in 2017, the blue chip prospect talent seemed to be more evenly dispersed between elite and non-elite programs, sitting near 15% in 2016 and 2018, before the transfer portal was introduced officially.\n",
    "\n",
    "Since the transfer portal was implemented during football season of the 2019 recruiting class, it doesn't appear there was much time for it to really make an impact on those 2019 blue chip recruits (although it did increase slightly from 2018). It does appear that it made an impact with the 2020 and 2021 classes. The elite group's blue chip commitment percentage increased with each of those years."
   ]
  },
  {
   "cell_type": "markdown",
   "metadata": {},
   "source": [
    "## Transfer Portal and Five Star Prospect Recruiting\n",
    "\n",
    "Next, we are going to analyze the effects the transfer portal may have had on recruiting five star high school football players. Five star players are the most talented recruits in a class every year. While blue chip prospects are highly sought after, five star players are usually recruited the hardest because of their level of talent.\n",
    "\n",
    "For analysis in this section, I will create a copy of the original data and filter it to include only players who have a 5 star rating, group them by school based on if the player's school is in the elite group or not, and then create a percentage of the five star talent pool each group received in each class."
   ]
  },
  {
   "cell_type": "code",
   "execution_count": 13,
   "metadata": {
    "scrolled": true
   },
   "outputs": [
    {
     "data": {
      "text/plain": [
       "(189, 9)"
      ]
     },
     "execution_count": 13,
     "metadata": {},
     "output_type": "execute_result"
    }
   ],
   "source": [
    "five_stars = data.copy() #create copy of original data\n",
    "\n",
    "five_stars = five_stars[five_stars['stars'] == 5]\n",
    "\n",
    "five_stars.shape #ensuring filter results"
   ]
  },
  {
   "cell_type": "code",
   "execution_count": 14,
   "metadata": {},
   "outputs": [],
   "source": [
    "five_stars_group = five_stars.groupby(['year', 'eliteLevel'])['eliteLevel'].count().rename('count')\n",
    "fs_percentage = five_stars_group / five_stars_group.groupby('year').sum() * 100\n",
    "fs_percentage = round(fs_percentage,2)\n",
    "fs_percentage = fs_percentage.reset_index()"
   ]
  },
  {
   "cell_type": "code",
   "execution_count": 15,
   "metadata": {
    "scrolled": false
   },
   "outputs": [
    {
     "data": {
      "image/png": "[encoded data removed]",
      "text/plain": [
       "<Figure size 864x576 with 1 Axes>"
      ]
     },
     "metadata": {},
     "output_type": "display_data"
    }
   ],
   "source": [
    "#plotting\n",
    "\n",
    "fig = plt.figure(figsize=(12,8))\n",
    "\n",
    "sns.lineplot(data=fs_percentage, x='year', y='count', hue='eliteLevel', palette='rocket_r')\n",
    "plt.title('Transfer Portal and Five Star Recruiting - Elite vs. Non-Elite', fontsize = 18)\n",
    "plt.xlabel('Year')\n",
    "plt.ylabel('Percent of Five Star Recruits', fontsize=14)\n",
    "plt.axvline(2018.8, color='green', label = 'Start of Transfer Portal', alpha=0.5)\n",
    "plt.legend()\n",
    "plt.show()"
   ]
  },
  {
   "cell_type": "markdown",
   "metadata": {},
   "source": [
    "The non-elite group had the greatest percentage of five star prospects in 2016 before the elite group sharply rebounded with the next class. When the portal was introduced before National Signing Day in 2019, a more balanced trend was starting to show between the groups. \n",
    "\n",
    "However, after the 2019 class, five star prospects seemed more eager to sign with elite level programs, as displayed by the upward trajectory of the elite line. Worth noting, the elite group (remember, only four programs) gained a commitment from more than half (!) of the five star talent pool in 2021."
   ]
  },
  {
   "cell_type": "markdown",
   "metadata": {},
   "source": [
    "## Transfer Portal and Average Group Recruit Rating\n",
    "\n",
    "Another area we can analyze is the potential effect the transfer portal has had on the average rating per recruiting class of each group.\n",
    "\n",
    "For this section, I decided to limit the data to include only programs in the Power 5 conferences (Big Ten, SEC, ACC, Big 12, and Pac-12). This allows for an analysis on programs who are more \"evenly matched\" in resources, avoiding any significant mismatches and limits outliers.\n",
    "\n",
    "To perform this analysis, I will create a copy of our original data and records data and filter out any programs who are not a member of the Power 5 conferences. Then, I will group the data by year and elite level and provide the average rating of a recruit in each group for that given recruiting class."
   ]
  },
  {
   "cell_type": "code",
   "execution_count": 16,
   "metadata": {},
   "outputs": [
    {
     "data": {
      "text/plain": [
       "(8688, 9)"
      ]
     },
     "execution_count": 16,
     "metadata": {},
     "output_type": "execute_result"
    }
   ],
   "source": [
    "avg = data.copy() #create copy of original data\n",
    "\n",
    "rec_2 = records.copy() #create copy of records dataframe\n",
    "\n",
    "power_5_list = ['Big Ten', 'SEC', 'ACC', 'Big 12', 'Pac-12']\n",
    "\n",
    "conf_filter = rec_2.conference.isin(power_5_list)\n",
    "rec_2 = rec_2[conf_filter]\n",
    "\n",
    "teams = avg.college.isin(rec_2.team)\n",
    "avg = avg[teams]\n",
    "\n",
    "avg.shape #ensuring filter results"
   ]
  },
  {
   "cell_type": "code",
   "execution_count": 21,
   "metadata": {},
   "outputs": [
    {
     "name": "stdout",
     "output_type": "stream",
     "text": [
      "Elite vs. Non-Elite Group Average Recruit Rating\n",
      "    year eliteLevel  rating\n",
      "0   2016      Elite  0.9074\n",
      "1   2016  Non-Elite  0.8566\n",
      "2   2017      Elite  0.9230\n",
      "3   2017  Non-Elite  0.8571\n",
      "4   2018      Elite  0.9181\n",
      "5   2018  Non-Elite  0.8651\n",
      "6   2019      Elite  0.9177\n",
      "7   2019  Non-Elite  0.8702\n",
      "8   2020      Elite  0.9219\n",
      "9   2020  Non-Elite  0.8683\n",
      "10  2021      Elite  0.9461\n",
      "11  2021  Non-Elite  0.8725\n"
     ]
    }
   ],
   "source": [
    "group_avg = avg.groupby(['year', 'eliteLevel'])['rating'].agg(np.mean).rename('rating')\n",
    "group_avg = group_avg.reset_index()\n",
    "\n",
    "print('Elite vs. Non-Elite Group Average Recruit Rating')\n",
    "\n",
    "print(round((group_avg),4)) #providing printed numbers"
   ]
  },
  {
   "cell_type": "code",
   "execution_count": 18,
   "metadata": {},
   "outputs": [
    {
     "data": {
      "image/png": "[encoded data removed]",
      "text/plain": [
       "<Figure size 864x576 with 1 Axes>"
      ]
     },
     "metadata": {},
     "output_type": "display_data"
    }
   ],
   "source": [
    "#plotting\n",
    "\n",
    "fig = plt.figure(figsize=(12,8))\n",
    "sns.lineplot(data=group_avg, x='year', y='rating', hue='eliteLevel', palette='rocket_r')\n",
    "plt.title('Transfer Portal and Average Recruit Rating - Elite vs. Non-Elite', fontsize = 18)\n",
    "plt.xlabel('Year')\n",
    "plt.ylabel('Average Group Recruit Rating', fontsize=14)\n",
    "plt.axvline(2018.8, color='green', label='Start of Transfer Portal', alpha=0.5)\n",
    "plt.legend()\n",
    "plt.show()"
   ]
  },
  {
   "cell_type": "markdown",
   "metadata": {},
   "source": [
    "The elite group never had a class where their average recruit rating finished below .90, while the non-elite group's highest mark (2021) barely made it above .87, the only time this group managed to do so.\n",
    "\n",
    "Maybe the most outstanding point to make from the above graph is where the elite group's average rating finished in 2021. While their average rating seemed to hover around .92, it jumped significantly in 2021 to above .94! This lead to the greatest disparity in class talent between the two groups in the analyzed time frame.\n",
    "\n",
    "How does the transfer portal figure into this graph? Right after the portal's creation in 2019, the average rating of each group finished at its closest in the time frame. However, as seems to be the case with the other two charts, the elite group's line increased with the two full recruiting years (2020 and 2021) following the portal."
   ]
  },
  {
   "cell_type": "markdown",
   "metadata": {},
   "source": [
    "## Conclusion\n",
    "\n",
    "After reviewing all of the above data, I believe we can objectively conclude that the transfer portal has had at least some effect on recruiting.\n",
    "\n",
    "The elite programs in our list (Alabama, Clemson, Ohio State and Oklahoma) experienced significant increases in the number of commitments they received from five star recruits since the portal's inception. They also \"chipped away\" (no pun intended) on receiving more signatures from blue chip recruits since October 2018 as well.\n",
    "\n",
    "We also noticed that the elite group seemed to benefit from a better average recruit rating in the years after the portal's creation than before it. The non-elite group did see a jump as well, although very slight and not nearly to the extent of the elite group.\n",
    "\n",
    "When the top talent in every recruiting class is becoming more likely to sign with an elite program each year, especially five star prospects, this makes the already existing divide between elite and non-elite programs even larger. In some instances, this allows some teams to roll out blue chip prospects as *backups* in games where their opponent may be lucky to have even as many as five blue chip prospects *on the entire team.*\n",
    "\n",
    "Again, acquiring this talent does **not** always mean that the players will develop as they should. There are system fits and development programs that play a significant role to on field success beyond their ratings. However, when each program is able to bring in blue chip talent at an increasing level year after year, it can only help ensure the elite group's spot at the top of the college football world."
   ]
  },
  {
   "cell_type": "code",
   "execution_count": null,
   "metadata": {},
   "outputs": [],
   "source": []
  }
 ],
 "metadata": {
  "kernelspec": {
   "display_name": "Python 3",
   "language": "python",
   "name": "python3"
  },
  "language_info": {
   "codemirror_mode": {
    "name": "ipython",
    "version": 3
   },
   "file_extension": ".py",
   "mimetype": "text/x-python",
   "name": "python",
   "nbconvert_exporter": "python",
   "pygments_lexer": "ipython3",
   "version": "3.8.5"
  }
 },
 "nbformat": 4,
 "nbformat_minor": 4
}
